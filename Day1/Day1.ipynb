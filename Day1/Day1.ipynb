{
  "nbformat": 4,
  "nbformat_minor": 0,
  "metadata": {
    "colab": {
      "provenance": []
    },
    "kernelspec": {
      "name": "python3",
      "display_name": "Python 3"
    },
    "language_info": {
      "name": "python"
    }
  },
  "cells": [
    {
      "cell_type": "markdown",
      "source": [
        "# Advent of Code 2024: Day 1\n",
        "https://adventofcode.com/2024/day/1"
      ],
      "metadata": {
        "id": "o-tNSVNuvVMb"
      }
    },
    {
      "cell_type": "markdown",
      "source": [
        "## Part 1\n",
        "Calculate the distance between each pair of items in two lists, sorted from smallest to largest"
      ],
      "metadata": {
        "id": "HRH2W_Oex_I8"
      }
    },
    {
      "cell_type": "markdown",
      "source": [
        "### Get the data into two lists of ints"
      ],
      "metadata": {
        "id": "sTS_qGN4vfcK"
      }
    },
    {
      "cell_type": "code",
      "execution_count": 34,
      "metadata": {
        "id": "ZvJTK9GRqIQ6"
      },
      "outputs": [],
      "source": [
        "myfile = open('input.txt', 'r')\n",
        "data = myfile.read()\n",
        "data_list = data.split('\\n')\n",
        "\n",
        "left_list = [int(x.split()[0]) for x in data_list]\n",
        "right_list = [int(x.split()[-1]) for x in data_list]"
      ]
    },
    {
      "cell_type": "markdown",
      "source": [
        "### Sort each list, then calculate the distances"
      ],
      "metadata": {
        "id": "mQde5kU9wloX"
      }
    },
    {
      "cell_type": "code",
      "source": [
        "total = 0\n",
        "for left, right in zip(sorted(left_list), sorted(right_list)):\n",
        "  total += abs(left - right)\n",
        "\n",
        "total"
      ],
      "metadata": {
        "id": "FV4n6CgAxX-C",
        "colab": {
          "base_uri": "https://localhost:8080/"
        },
        "outputId": "a8f63dc6-a169-4950-82d2-922d2e0b016f"
      },
      "execution_count": 35,
      "outputs": [
        {
          "output_type": "execute_result",
          "data": {
            "text/plain": [
              "1151792"
            ]
          },
          "metadata": {},
          "execution_count": 35
        }
      ]
    },
    {
      "cell_type": "markdown",
      "source": [
        "## Part 2\n",
        "Find how many times items in the left list occurs in the right list\n",
        "\n"
      ],
      "metadata": {
        "id": "By2sxieW2tgf"
      }
    },
    {
      "cell_type": "code",
      "source": [
        "total = 0\n",
        "\n",
        "for i in left_list:\n",
        "  total += i*right_list.count(i)\n",
        "\n",
        "total"
      ],
      "metadata": {
        "id": "hJYOtHhf4cUV",
        "colab": {
          "base_uri": "https://localhost:8080/"
        },
        "outputId": "ce55603b-6494-46ea-de93-f4faa33aa9b3"
      },
      "execution_count": 36,
      "outputs": [
        {
          "output_type": "execute_result",
          "data": {
            "text/plain": [
              "21790168"
            ]
          },
          "metadata": {},
          "execution_count": 36
        }
      ]
    }
  ]
}