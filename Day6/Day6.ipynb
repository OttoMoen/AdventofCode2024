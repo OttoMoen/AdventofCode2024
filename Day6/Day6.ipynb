{
 "cells": [
  {
   "cell_type": "markdown",
   "metadata": {
    "id": "e7qDcWW3JF8G"
   },
   "source": [
    "# Advent of Code 2024: Day 6\n",
    "https://adventofcode.com/2024/day/6\n"
   ]
  },
  {
   "cell_type": "markdown",
   "metadata": {
    "id": "krtSVL3uJOQC"
   },
   "source": [
    "## Part 1\n",
    "Find how many positions are visited before walking off a map"
   ]
  },
  {
   "cell_type": "markdown",
   "metadata": {
    "id": "Jc2_NXw63k49"
   },
   "source": [
    "### Get the data into a list of lists of integers"
   ]
  },
  {
   "cell_type": "code",
   "execution_count": 63,
   "metadata": {
    "id": "xQfXHvPiJQrT"
   },
   "outputs": [],
   "source": [
    "myfile = open('input.txt', 'r')\n",
    "data = myfile.read()\n",
    "data_map = [list(line) for line in data.split('\\n')]"
   ]
  },
  {
   "cell_type": "code",
   "execution_count": 64,
   "metadata": {},
   "outputs": [
    {
     "name": "stdout",
     "output_type": "stream",
     "text": [
      "5177\n"
     ]
    }
   ],
   "source": [
    "DIRS = {\n",
    "    \"right\": (0,1),\n",
    "    \"left\": (0,-1),\n",
    "    \"down\": (1,0),\n",
    "    \"up\": (-1,0),\n",
    "}\n",
    "TURNING = {\"up\": \"right\", \n",
    "           \"right\":\"down\", \n",
    "           \"down\":\"left\", \n",
    "           \"left\":\"up\",}\n",
    "MAX_Y = len(data_map)\n",
    "MAX_X = len(data_map[0])\n",
    "posWithDir = list[int,int,str]\n",
    "\n",
    "for i, row in enumerate(data_map):\n",
    "    for j, col in enumerate(data_map[i]):\n",
    "        if col == \"^\":\n",
    "            start_position = [i,j, \"up\"]\n",
    "            break\n",
    "visited_positions = set()\n",
    "visited_positions.add((start_position[0], start_position[1]))\n",
    "\n",
    "def _check_in_map(position: posWithDir) -> bool:\n",
    "    return position[0] >=0 and position[1] >=0 and position[0] < MAX_Y and position[1] < MAX_X\n",
    "\n",
    "def _step(data_map: list[list[str]], position:posWithDir):\n",
    "    new_y, new_x = tuple(y+x for y,x in zip(position[:2], DIRS[position[2]]))\n",
    "    if not _check_in_map((new_y,new_x)):\n",
    "        return None\n",
    "    if data_map[new_y][new_x] == \"#\":\n",
    "        position[2] = TURNING[position[2]]\n",
    "        return position\n",
    "    position[0] = new_y\n",
    "    position[1] = new_x\n",
    "    return position\n",
    "\n",
    "    \n",
    "def patrol(data_map: list[list[str]], visited_positions: set[posWithDir], position:posWithDir):\n",
    "    while True:\n",
    "        position = _step(data_map, position)\n",
    "        if position:\n",
    "            visited_positions.add((position[0],position[1]))\n",
    "        else:\n",
    "            break\n",
    "    return visited_positions\n",
    "\n",
    "visited_positions = patrol(data_map, visited_positions, start_position.copy())\n",
    "print(len(visited_positions))"
   ]
  },
  {
   "cell_type": "markdown",
   "metadata": {
    "id": "3Lrn7gih7AJY"
   },
   "source": [
    "## Part 2\n",
    "Find how many different places could be chosen for an obstruction to create an infinite loop"
   ]
  },
  {
   "cell_type": "code",
   "execution_count": 65,
   "metadata": {
    "colab": {
     "base_uri": "https://localhost:8080/"
    },
    "id": "fAV41dSXG_qA",
    "outputId": "93d38566-3f42-4167-f654-079dac05ac5e"
   },
   "outputs": [
    {
     "name": "stdout",
     "output_type": "stream",
     "text": [
      "1686\n"
     ]
    }
   ],
   "source": [
    "def patrol_unique(data_map: list[list[str]], visited_positions: set[posWithDir], position:posWithDir):\n",
    "    while True:\n",
    "        position = _step(data_map, position)\n",
    "        if position:\n",
    "            if tuple(position) in visited_positions:\n",
    "                return True\n",
    "            visited_positions.add(tuple(position))\n",
    "        else:\n",
    "            break\n",
    "    return False\n",
    "\n",
    "total_obstructions = 0\n",
    "path = visited_positions.copy()\n",
    "for i,j in path:\n",
    "    visited_positions = set()\n",
    "    visited_positions.add(tuple(start_position))\n",
    "    if data_map[i][j] == \"#\" or data_map[i][j] ==\"^\":\n",
    "        continue\n",
    "    data_map[i][j] = \"#\"\n",
    "    if patrol_unique(data_map, visited_positions, start_position.copy()):\n",
    "        total_obstructions +=1\n",
    "    data_map[i][j] = \".\"\n",
    "print(total_obstructions)"
   ]
  }
 ],
 "metadata": {
  "colab": {
   "provenance": []
  },
  "kernelspec": {
   "display_name": ".venv",
   "language": "python",
   "name": "python3"
  },
  "language_info": {
   "codemirror_mode": {
    "name": "ipython",
    "version": 3
   },
   "file_extension": ".py",
   "mimetype": "text/x-python",
   "name": "python",
   "nbconvert_exporter": "python",
   "pygments_lexer": "ipython3",
   "version": "3.12.8"
  }
 },
 "nbformat": 4,
 "nbformat_minor": 0
}
