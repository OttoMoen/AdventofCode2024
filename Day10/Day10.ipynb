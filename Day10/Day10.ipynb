{
 "cells": [
  {
   "cell_type": "markdown",
   "metadata": {
    "id": "e7qDcWW3JF8G"
   },
   "source": [
    "# Advent of Code 2024: Day 10\n",
    "https://adventofcode.com/2024/day/10\n"
   ]
  },
  {
   "cell_type": "markdown",
   "metadata": {
    "id": "krtSVL3uJOQC"
   },
   "source": [
    "## Part 1\n",
    "Calculate how many many ending points can be reached by each starting point"
   ]
  },
  {
   "cell_type": "code",
   "execution_count": 21,
   "metadata": {
    "id": "xQfXHvPiJQrT"
   },
   "outputs": [],
   "source": [
    "myfile = open(\"input.txt\", \"r\")\n",
    "data = myfile.read()\n",
    "data_map = [[int(char) for char in line] for line in data.split(\"\\n\")]"
   ]
  },
  {
   "cell_type": "code",
   "execution_count": null,
   "metadata": {},
   "outputs": [
    {
     "name": "stdout",
     "output_type": "stream",
     "text": [
      "531\n"
     ]
    }
   ],
   "source": [
    "MAX_Y = len(data_map)\n",
    "MAX_X = len(data_map[0])\n",
    "\n",
    "\n",
    "def get_pos_by_value(\n",
    "    data: list[list[int]], value: int = 0\n",
    ") -> list[tuple[int, int] | None]:\n",
    "    starts = []\n",
    "    for i in range(MAX_Y):\n",
    "        for j in range(MAX_X):\n",
    "            if data[i][j] == value:\n",
    "                starts.append((i, j))\n",
    "    return starts\n",
    "\n",
    "\n",
    "def get_neighbors(\n",
    "    data: list[list[int]], pos: tuple[int, int]\n",
    ") -> list[tuple[int, int] | None]:\n",
    "    row, col = pos\n",
    "    curr = data[row][col]\n",
    "    dirs = []\n",
    "\n",
    "    if row > 0:\n",
    "        new_pos = data[row - 1][col]\n",
    "        if new_pos - curr == 1:\n",
    "            dirs.append((row - 1, col))\n",
    "\n",
    "    if row <= MAX_Y - 2:\n",
    "        new_pos = data[row + 1][col]\n",
    "        if new_pos - curr == 1:\n",
    "            dirs.append((row + 1, col))\n",
    "\n",
    "    if col > 0:\n",
    "        new_pos = data[row][col - 1]\n",
    "        if new_pos - curr == 1:\n",
    "            dirs.append((row, col - 1))\n",
    "\n",
    "    if col <= MAX_X - 2:\n",
    "        new_pos = data[row][col + 1]\n",
    "        if new_pos - curr == 1:\n",
    "            dirs.append((row, col + 1))\n",
    "\n",
    "    return dirs\n",
    "\n",
    "\n",
    "def find_paths(\n",
    "    data: list[list[int]], start: tuple[int, int], ends: list[tuple[int, int]]\n",
    "):\n",
    "    explore_q = []\n",
    "    visited = []\n",
    "    reached_ends = set()\n",
    "\n",
    "    visited.append(start)\n",
    "    explore_q.append(start)\n",
    "    while explore_q:\n",
    "        curr = explore_q.pop(0)\n",
    "        neighbors = get_neighbors(data, curr)\n",
    "        for neighbor in neighbors:\n",
    "            if neighbor not in visited:\n",
    "                visited.append(neighbor)\n",
    "                explore_q.append(neighbor)\n",
    "                if neighbor in ends:\n",
    "                    reached_ends.add(neighbor)\n",
    "    return reached_ends\n",
    "\n",
    "\n",
    "starts = get_pos_by_value(data_map, 0)\n",
    "ends = get_pos_by_value(data_map, 9)\n",
    "\n",
    "total_reached_ends = []\n",
    "for start in starts:\n",
    "    total_reached_ends.append(len(find_paths(data_map, start, ends)))\n",
    "print(sum(total_reached_ends))"
   ]
  },
  {
   "cell_type": "markdown",
   "metadata": {},
   "source": [
    "## Part 2\n",
    "Calculate how many many unique paths to different ending points can be reached by each starting point"
   ]
  },
  {
   "cell_type": "code",
   "execution_count": null,
   "metadata": {},
   "outputs": [
    {
     "name": "stdout",
     "output_type": "stream",
     "text": [
      "1210\n"
     ]
    }
   ],
   "source": [
    "def find_all_paths(\n",
    "    data: list[list[int]], start: tuple[int, int], ends: list[tuple[int, int]]\n",
    "):\n",
    "    explore_q = []\n",
    "    prev = {}\n",
    "    prev[start] = [start]\n",
    "\n",
    "    explore_q.append(start)\n",
    "    while explore_q:\n",
    "        curr = explore_q.pop(0)\n",
    "        neighbors = get_neighbors(data, curr)\n",
    "        for neighbor in neighbors:\n",
    "            if prev.get(neighbor):\n",
    "                prev[neighbor].append(curr)\n",
    "            else:\n",
    "                prev[neighbor] = [curr]\n",
    "            explore_q.append(neighbor)\n",
    "    return prev\n",
    "\n",
    "\n",
    "total_rating = []\n",
    "for start in starts:\n",
    "    paths = find_all_paths(data_map, start, ends)\n",
    "    for end in ends:\n",
    "        if paths.get(end):\n",
    "            total_rating.append(len(paths[end]))\n",
    "print(sum(total_rating))"
   ]
  }
 ],
 "metadata": {
  "colab": {
   "provenance": []
  },
  "kernelspec": {
   "display_name": ".venv",
   "language": "python",
   "name": "python3"
  },
  "language_info": {
   "codemirror_mode": {
    "name": "ipython",
    "version": 3
   },
   "file_extension": ".py",
   "mimetype": "text/x-python",
   "name": "python",
   "nbconvert_exporter": "python",
   "pygments_lexer": "ipython3",
   "version": "3.12.8"
  }
 },
 "nbformat": 4,
 "nbformat_minor": 0
}
