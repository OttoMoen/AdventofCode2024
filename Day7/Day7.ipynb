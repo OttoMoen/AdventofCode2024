{
 "cells": [
  {
   "cell_type": "markdown",
   "metadata": {
    "id": "e7qDcWW3JF8G"
   },
   "source": [
    "# Advent of Code 2024: Day 7\n",
    "https://adventofcode.com/2024/day/7\n"
   ]
  },
  {
   "cell_type": "markdown",
   "metadata": {
    "id": "krtSVL3uJOQC"
   },
   "source": [
    "## Part 1\n",
    "Find the sum of all test values that can be reached using the accompanying numbers and the operators + and *"
   ]
  },
  {
   "cell_type": "code",
   "execution_count": 142,
   "metadata": {
    "id": "xQfXHvPiJQrT"
   },
   "outputs": [],
   "source": [
    "myfile = open('input.txt', 'r')\n",
    "data = myfile.read()"
   ]
  },
  {
   "cell_type": "code",
   "execution_count": 143,
   "metadata": {},
   "outputs": [
    {
     "data": {
      "text/plain": [
       "2941973819040"
      ]
     },
     "execution_count": 143,
     "metadata": {},
     "output_type": "execute_result"
    }
   ],
   "source": [
    "from itertools import product\n",
    "\n",
    "def _add_operator(a:int, operators: list[str] = [\"p\", \"t\"]):\n",
    "    return [[a, o] for o in operators]\n",
    "\n",
    "def _add_operators(numbers: list[int], operators: list[str] = [\"p\", \"t\"]):\n",
    "    variants = []\n",
    "    for i in range(len(numbers)-1):\n",
    "        variants.append(_add_operator(numbers[i], operators))\n",
    "    equations= []\n",
    "    for p in product(*variants):\n",
    "        t = []\n",
    "        for i in p:\n",
    "            for j in i:\n",
    "                t.append(j)\n",
    "        t.append(numbers[-1])\n",
    "\n",
    "        equations.append(t)    \n",
    "    return equations\n",
    "\n",
    "def evaluate_equation(equation: list[int | str]):\n",
    "    total = equation[0]\n",
    "    for i in equation[1:]:\n",
    "        if i == \"p\":\n",
    "            add = True\n",
    "        elif i == \"t\":\n",
    "            add = False\n",
    "        else:\n",
    "            if add:\n",
    "                total +=i\n",
    "            else:\n",
    "                total *=i\n",
    "    return total\n",
    "\n",
    "total = []\n",
    "for line in data.split('\\n'):\n",
    "    key, value = line.split(\": \")\n",
    "    key = int(key)\n",
    "    value = [int(v) for v in value.split(\" \")]\n",
    "    equations = _add_operators(value)\n",
    "    for e in equations:\n",
    "        if evaluate_equation(e) == key:\n",
    "            total.append(key)\n",
    "            break\n",
    "sum(total)"
   ]
  },
  {
   "cell_type": "markdown",
   "metadata": {
    "id": "yiKeMv3lJPM_"
   },
   "source": [
    "## Part 2\n",
    "Find the sum of all test values that can be reached using the accompanying numbers and the operators + and * and ||"
   ]
  },
  {
   "cell_type": "code",
   "execution_count": 144,
   "metadata": {},
   "outputs": [
    {
     "data": {
      "text/plain": [
       "249943041417600"
      ]
     },
     "execution_count": 144,
     "metadata": {},
     "output_type": "execute_result"
    }
   ],
   "source": [
    "def evaluate_equation_2(equation: list[int | str]):\n",
    "    total = equation[0]\n",
    "    for i in equation[1:]:\n",
    "        if i == \"p\":\n",
    "            add = True\n",
    "            mul = False\n",
    "            conc = False\n",
    "        elif i == \"t\":\n",
    "            add = False\n",
    "            mul = True\n",
    "            conc = False\n",
    "        elif i == \"|\":\n",
    "            add = False\n",
    "            mul = False\n",
    "            conc = True\n",
    "        else:\n",
    "            if add:\n",
    "                total +=i\n",
    "            if mul:\n",
    "                total *=i\n",
    "            if conc:\n",
    "                total = int(str(total)+str(i))\n",
    "    return total\n",
    "\n",
    "total = []\n",
    "for line in data.split('\\n'):\n",
    "    key, value = line.split(\": \")\n",
    "    key = int(key)\n",
    "    value = [int(v) for v in value.split(\" \")]\n",
    "    equations = _add_operators(value, [\"p\", \"t\", \"|\"])\n",
    "    for e in equations:\n",
    "        if evaluate_equation_2(e) == key:\n",
    "            total.append(key)\n",
    "            break\n",
    "sum(total)"
   ]
  }
 ],
 "metadata": {
  "colab": {
   "provenance": []
  },
  "kernelspec": {
   "display_name": ".venv",
   "language": "python",
   "name": "python3"
  },
  "language_info": {
   "codemirror_mode": {
    "name": "ipython",
    "version": 3
   },
   "file_extension": ".py",
   "mimetype": "text/x-python",
   "name": "python",
   "nbconvert_exporter": "python",
   "pygments_lexer": "ipython3",
   "version": "3.12.8"
  }
 },
 "nbformat": 4,
 "nbformat_minor": 0
}
