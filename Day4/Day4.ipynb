{
 "cells": [
  {
   "cell_type": "markdown",
   "metadata": {
    "id": "e7qDcWW3JF8G"
   },
   "source": [
    "# Advent of Code 2024: Day 4\n",
    "https://adventofcode.com/2024/day/4\n"
   ]
  },
  {
   "cell_type": "markdown",
   "metadata": {
    "id": "krtSVL3uJOQC"
   },
   "source": [
    "## Part 1\n",
    "Find the number of occurences of the word XMAS"
   ]
  },
  {
   "cell_type": "code",
   "execution_count": 41,
   "metadata": {
    "id": "xQfXHvPiJQrT"
   },
   "outputs": [],
   "source": [
    "myfile = open('input.txt', 'r')\n",
    "data = myfile.read()\n",
    "data_list = data.split('\\n')\n",
    "data_list = [list(line) for line in data_list]"
   ]
  },
  {
   "cell_type": "code",
   "execution_count": 42,
   "metadata": {},
   "outputs": [
    {
     "name": "stdout",
     "output_type": "stream",
     "text": [
      "2397\n"
     ]
    }
   ],
   "source": [
    "pos = tuple[int,int]\n",
    "pos_with_dir = tuple[int,int,str]\n",
    "DIRS = {\n",
    "    \"right\": (0,1),\n",
    "    \"left\": (0,-1),\n",
    "    \"down\": (1,0),\n",
    "    \"up\": (-1,0),\n",
    "    \"right_down\": (1,1),\n",
    "    \"right_up\": (1,-1),\n",
    "    \"left_down\": (-1,1),\n",
    "    \"left_up\": (-1,-1),\n",
    "}\n",
    "MAX_Y = len(data_list)\n",
    "MAX_X = len(data_list[0])\n",
    "def _check_in_map(position: pos) -> bool:\n",
    "    return position[0] >=0 and position[1] >=0 and position[0] < MAX_Y and position[1] < MAX_X\n",
    "\n",
    "def _get_valid_x_locs(data_list: list[list[str]], char: str = \"X\") -> list[pos]:\n",
    "    x_locs = []\n",
    "    for i in range(MAX_Y):\n",
    "        for j in range(MAX_X):\n",
    "            if data_list[i][j] == char:\n",
    "                x_locs.append((i,j))\n",
    "    return x_locs\n",
    "\n",
    "def _get_valid_xm_locs(data_list: list[list[str]], x_locs: list[pos]) -> list[pos_with_dir]:\n",
    "    xm_locs = []\n",
    "    for x_loc in x_locs:\n",
    "        for dir, dir_tuple in DIRS.items():\n",
    "            new_y, new_x = tuple(y+x for y,x in zip(x_loc, dir_tuple))\n",
    "            if not _check_in_map((new_y, new_x)):\n",
    "                continue\n",
    "            if data_list[new_y][new_x] == \"M\":\n",
    "                xm_locs.append((new_y, new_x, dir))\n",
    "    return xm_locs\n",
    "\n",
    "def get_xmas(data_list: list[list[str]]) -> list[pos]:\n",
    "    x_locs = _get_valid_x_locs(data_list)\n",
    "    xm_locs = _get_valid_xm_locs(data_list, x_locs)\n",
    "    xmas_locs = []\n",
    "    for xm_loc in xm_locs:\n",
    "        dir = DIRS[xm_loc[2]]\n",
    "        third_pos = (xm_loc[0]+ dir[0],xm_loc[1]+dir[1])\n",
    "        if not _check_in_map(third_pos):\n",
    "            continue\n",
    "        if data_list[third_pos[0]][third_pos[1]] == \"A\":\n",
    "            fourth_pos = (xm_loc[0]+ (dir[0]*2),xm_loc[1]+(dir[1]*2))\n",
    "            if not _check_in_map(fourth_pos):\n",
    "                continue\n",
    "            if data_list[fourth_pos[0]][fourth_pos[1]] == \"S\":\n",
    "                xmas_locs.append((xm_loc[0]+ (dir[0]*2),xm_loc[1]+(dir[1]*2)))\n",
    "    return xmas_locs\n",
    "\n",
    "xmas = get_xmas(data_list)\n",
    "print(len(xmas))"
   ]
  },
  {
   "cell_type": "markdown",
   "metadata": {
    "id": "KdPk423BDEP-"
   },
   "source": [
    "## Part 2\n",
    "Find the number of occurences of MAS in a cross with another MAS"
   ]
  },
  {
   "cell_type": "code",
   "execution_count": 52,
   "metadata": {},
   "outputs": [
    {
     "name": "stdout",
     "output_type": "stream",
     "text": [
      "1824\n"
     ]
    }
   ],
   "source": [
    "def _get_diagonals(data_list:list[list[str]], x_loc: pos) -> list[str]:\n",
    "    diagonal_dirs = [\"right_down\", \"right_up\", \"left_down\", \"left_up\"]\n",
    "    chars = []\n",
    "    for dir in diagonal_dirs:\n",
    "        new_y, new_x = tuple(y+x for y,x in zip(x_loc, DIRS[dir]))\n",
    "        if not _check_in_map((new_y, new_x)):\n",
    "            continue\n",
    "        chars.append(data_list[new_y][new_x])\n",
    "    return chars\n",
    "\n",
    "def get_mas_cross(data_list: list[list[str]]) -> list[pos]:\n",
    "    a_locs = _get_valid_x_locs(data_list, \"A\")\n",
    "    xmas = []\n",
    "    for a_loc in a_locs:\n",
    "        diagonal_chars = _get_diagonals(data_list, a_loc)\n",
    "        if diagonal_chars.count(\"M\") == 2 and diagonal_chars.count(\"S\") == 2 and diagonal_chars[0] != diagonal_chars[3]:\n",
    "            xmas.append(a_loc)\n",
    "    return xmas\n",
    "\n",
    "xmas = get_mas_cross(data_list)\n",
    "print(len(xmas))"
   ]
  }
 ],
 "metadata": {
  "colab": {
   "provenance": []
  },
  "kernelspec": {
   "display_name": "Python 3",
   "name": "python3"
  },
  "language_info": {
   "codemirror_mode": {
    "name": "ipython",
    "version": 3
   },
   "file_extension": ".py",
   "mimetype": "text/x-python",
   "name": "python",
   "nbconvert_exporter": "python",
   "pygments_lexer": "ipython3",
   "version": "3.10.7"
  }
 },
 "nbformat": 4,
 "nbformat_minor": 0
}
