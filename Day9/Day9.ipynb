{
 "cells": [
  {
   "cell_type": "markdown",
   "metadata": {
    "id": "e7qDcWW3JF8G"
   },
   "source": [
    "# Advent of Code 2024: Day 9\n",
    "https://adventofcode.com/2024/day/9\n"
   ]
  },
  {
   "cell_type": "markdown",
   "metadata": {
    "id": "krtSVL3uJOQC"
   },
   "source": [
    "## Part 1\n",
    "Sort part of files into empty spaces in the file system"
   ]
  },
  {
   "cell_type": "code",
   "execution_count": 151,
   "metadata": {
    "id": "xQfXHvPiJQrT"
   },
   "outputs": [],
   "source": [
    "myfile = open(\"input.txt\", \"r\")\n",
    "data = myfile.read()"
   ]
  },
  {
   "cell_type": "code",
   "execution_count": null,
   "metadata": {},
   "outputs": [
    {
     "name": "stdout",
     "output_type": "stream",
     "text": [
      "6259790630969\n"
     ]
    }
   ],
   "source": [
    "def create_positions_dict(data: str) -> dict[int, list[int | None]]:\n",
    "    positions_dict = {}\n",
    "    file_id = 0\n",
    "    for i, f in enumerate(data):\n",
    "        digit = int(f)\n",
    "        if i % 2 == 0:\n",
    "            for j in range(len(positions_dict), len(positions_dict) + digit):\n",
    "                positions_dict[j] = [file_id]\n",
    "            file_id += 1\n",
    "        else:\n",
    "            for j in range(len(positions_dict), len(positions_dict) + digit):\n",
    "                positions_dict[j] = []\n",
    "    return positions_dict\n",
    "\n",
    "\n",
    "def get_empty_spaces(file_system: list[list[int | None]]) -> list[int]:\n",
    "    empty_spaces = []\n",
    "    for i, f in enumerate(file_system):\n",
    "        if not f:\n",
    "            empty_spaces.append(i)\n",
    "    return empty_spaces\n",
    "\n",
    "\n",
    "positions_dict = create_positions_dict(data)\n",
    "file_system = list(positions_dict.values())\n",
    "empty_spaces = get_empty_spaces(file_system)\n",
    "\n",
    "for i in range(len(file_system) - 1, -1, -1):\n",
    "    if file_system[i]:\n",
    "        if empty_spaces:\n",
    "            e = empty_spaces.pop(0)\n",
    "            if i > e:\n",
    "                file_system[e].append(file_system[i].pop())\n",
    "        else:\n",
    "            break\n",
    "\n",
    "total = 0\n",
    "for key, value in positions_dict.items():\n",
    "    if value:\n",
    "        total = total + (key * value[0])\n",
    "    else:\n",
    "        break\n",
    "print(total)"
   ]
  },
  {
   "cell_type": "markdown",
   "metadata": {
    "id": "Tqhr44Oq0U7O"
   },
   "source": [
    "## Part 2\n",
    "Sort whole files into empty spaces in the file system"
   ]
  },
  {
   "cell_type": "code",
   "execution_count": null,
   "metadata": {
    "colab": {
     "base_uri": "https://localhost:8080/"
    },
    "id": "rB1eGlAm0Wq0",
    "outputId": "c5f9128a-f5a1-466e-83c3-96c874f86b93"
   },
   "outputs": [
    {
     "name": "stdout",
     "output_type": "stream",
     "text": [
      "6289564433984\n"
     ]
    }
   ],
   "source": [
    "positions_dict = create_positions_dict(data)\n",
    "file_system = list(positions_dict.values())\n",
    "empty_spaces = get_empty_spaces(file_system)\n",
    "\n",
    "files = []\n",
    "files_index = []\n",
    "i = 0\n",
    "file = []\n",
    "file_index = []\n",
    "while i < len(file_system):\n",
    "    if file_system[i]:\n",
    "        if not file:\n",
    "            file.append(file_system[i][0])\n",
    "            file_index.append(i)\n",
    "        else:\n",
    "            if file_system[i][0] == file[-1]:\n",
    "                file.append(file_system[i][0])\n",
    "                file_index.append(i)\n",
    "            else:\n",
    "                files.append(file)\n",
    "                files_index.append(file_index)\n",
    "                file = [file_system[i][0]]\n",
    "                file_index = [i]\n",
    "    i += 1\n",
    "files_index.append(file_index)\n",
    "\n",
    "empty_spaces_grouped = []\n",
    "empty_space_group = []\n",
    "for i in empty_spaces:\n",
    "    if not empty_space_group:\n",
    "        empty_space_group.append(i)\n",
    "    else:\n",
    "        if i - empty_space_group[-1] == 1:\n",
    "            empty_space_group.append(i)\n",
    "        else:\n",
    "            empty_spaces_grouped.append(empty_space_group)\n",
    "            empty_space_group = [i]\n",
    "empty_spaces_grouped.append(empty_space_group)\n",
    "\n",
    "for i in range(len(files_index) - 1, -1, -1):\n",
    "    for j in range(len(empty_spaces_grouped)):\n",
    "        if empty_spaces_grouped:\n",
    "            if len(files_index[i]) <= len(empty_spaces_grouped[j]):\n",
    "                if files_index[i][0] > empty_spaces_grouped[j][0]:\n",
    "                    f_idx = files_index.pop(i)\n",
    "                    e = empty_spaces_grouped.pop(j)\n",
    "                    e_leftover = e[len(f_idx) :]\n",
    "                    if e_leftover:\n",
    "                        empty_spaces_grouped.insert(j, e_leftover)\n",
    "                    for indx, empty in zip(f_idx, e):\n",
    "                        file_system[empty].append(file_system[indx].pop())\n",
    "                break\n",
    "\n",
    "total = 0\n",
    "for key, value in positions_dict.items():\n",
    "    if value:\n",
    "        total = total + (key * value[0])\n",
    "print(total)"
   ]
  }
 ],
 "metadata": {
  "colab": {
   "provenance": []
  },
  "kernelspec": {
   "display_name": ".venv",
   "language": "python",
   "name": "python3"
  },
  "language_info": {
   "codemirror_mode": {
    "name": "ipython",
    "version": 3
   },
   "file_extension": ".py",
   "mimetype": "text/x-python",
   "name": "python",
   "nbconvert_exporter": "python",
   "pygments_lexer": "ipython3",
   "version": "3.12.7"
  }
 },
 "nbformat": 4,
 "nbformat_minor": 0
}
