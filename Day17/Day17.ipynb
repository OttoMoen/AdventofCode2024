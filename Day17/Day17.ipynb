{
  "cells": [
    {
      "cell_type": "markdown",
      "metadata": {
        "id": "e7qDcWW3JF8G"
      },
      "source": [
        "# Advent of Code 2024: Day 17\n",
        "https://adventofcode.com/2024/day/17\n"
      ]
    },
    {
      "cell_type": "markdown",
      "metadata": {
        "id": "krtSVL3uJOQC"
      },
      "source": [
        "## Part 1\n",
        "Calculate the output of a program that runs instructions"
      ]
    },
    {
      "cell_type": "code",
      "execution_count": 1,
      "metadata": {
        "id": "xQfXHvPiJQrT"
      },
      "outputs": [],
      "source": [
        "def read_data(data: str):\n",
        "    with open(\"input.txt\", \"r\") as f:\n",
        "        data = f.read()\n",
        "        registers = []\n",
        "        for i, line in enumerate(data.split(\"\\n\")):\n",
        "            if i < 3:\n",
        "                registers.append(int(line.split(\": \")[1]))\n",
        "            elif line:\n",
        "                program = [int(c) for c in line.split(\": \")[1].split(\",\")]\n",
        "    A, B, C = registers\n",
        "    COMBOS = {\n",
        "        0: 0,\n",
        "        1: 1,\n",
        "        2: 2,\n",
        "        3: 3,\n",
        "        4: A,\n",
        "        5: B,\n",
        "        6: C,\n",
        "    }\n",
        "    return COMBOS, program\n",
        "\n",
        "\n",
        "COMBOS, program = read_data(\"input.txt\")"
      ]
    },
    {
      "cell_type": "code",
      "execution_count": 2,
      "metadata": {},
      "outputs": [],
      "source": [
        "def adv(program, ind, out_list: list[int]):\n",
        "    COMBOS[4] = COMBOS[4] // (2 ** COMBOS[program[ind + 1]])\n",
        "    return out_list, ind + 2\n",
        "\n",
        "\n",
        "def bxl(program, ind, out_list: list[int]):\n",
        "    COMBOS[5] = COMBOS[5] ^ program[ind + 1]\n",
        "    return out_list, ind + 2\n",
        "\n",
        "\n",
        "def bst(program, ind, out_list: list[int]):\n",
        "    COMBOS[5] = COMBOS[program[ind + 1]] % 8\n",
        "    return out_list, ind + 2\n",
        "\n",
        "\n",
        "def jnz(program, ind, out_list: list[int]):\n",
        "    if COMBOS[4] == 0:\n",
        "        return out_list, ind + 2\n",
        "    return out_list, program[ind + 1]\n",
        "\n",
        "\n",
        "def bxc(program, ind, out_list: list[int]):\n",
        "    COMBOS[5] = COMBOS[5] ^ COMBOS[6]\n",
        "    return out_list, ind + 2\n",
        "\n",
        "\n",
        "def out(program, ind, out_list: list[int]):\n",
        "    out_list.append(COMBOS[program[ind + 1]] % 8)\n",
        "    return out_list, ind + 2\n",
        "\n",
        "\n",
        "def bdv(program, ind, out_list: list[int]):\n",
        "    COMBOS[5] = COMBOS[4] // (2 ** COMBOS[program[ind + 1]])\n",
        "    return out_list, ind + 2\n",
        "\n",
        "\n",
        "def cdv(program, ind, out_list: list[int]):\n",
        "    COMBOS[6] = COMBOS[4] // (2 ** COMBOS[program[ind + 1]])\n",
        "    return out_list, ind + 2\n",
        "\n",
        "\n",
        "instructions = [adv, bxl, bst, jnz, bxc, out, bdv, cdv]"
      ]
    },
    {
      "cell_type": "code",
      "execution_count": 3,
      "metadata": {},
      "outputs": [
        {
          "data": {
            "text/plain": [
              "'5,1,4,0,5,1,0,2,6'"
            ]
          },
          "execution_count": 3,
          "metadata": {},
          "output_type": "execute_result"
        }
      ],
      "source": [
        "out_list = []\n",
        "ind = 0\n",
        "while ind < len(program):\n",
        "    out_list, ind = instructions[program[ind]](program, ind, out_list)\n",
        "\n",
        "out_str = \"\"\n",
        "for i in out_list:\n",
        "    out_str += f\"{i},\"\n",
        "out_str[:-1]"
      ]
    },
    {
      "cell_type": "markdown",
      "metadata": {
        "id": "yiKeMv3lJPM_"
      },
      "source": [
        "## Part 2\n",
        "Find the smallest possible value for register A that causes the programs output to be the same as its input"
      ]
    },
    {
      "cell_type": "code",
      "execution_count": 4,
      "metadata": {},
      "outputs": [
        {
          "name": "stdout",
          "output_type": "stream",
          "text": [
            "202322936867370\n"
          ]
        }
      ],
      "source": [
        "As = set()\n",
        "As.add(0)\n",
        "for i in reversed(program):\n",
        "    As_new = set()\n",
        "    for a in As:\n",
        "        for offset in range(2**3):\n",
        "            a_new = a * (2**3) + offset\n",
        "            if a_new != 0:\n",
        "                b = a_new % 8\n",
        "                b = b ^ 1\n",
        "                c = a_new // 2**b\n",
        "                b = b ^ 4\n",
        "                b = b ^ c\n",
        "                b = b % 8\n",
        "                if b == i:\n",
        "                    As_new.add(a_new)\n",
        "    As = As_new\n",
        "print(min(As))"
      ]
    }
  ],
  "metadata": {
    "colab": {
      "provenance": []
    },
    "kernelspec": {
      "display_name": ".venv",
      "language": "python",
      "name": "python3"
    },
    "language_info": {
      "codemirror_mode": {
        "name": "ipython",
        "version": 3
      },
      "file_extension": ".py",
      "mimetype": "text/x-python",
      "name": "python",
      "nbconvert_exporter": "python",
      "pygments_lexer": "ipython3",
      "version": "3.12.8"
    }
  },
  "nbformat": 4,
  "nbformat_minor": 0
}
