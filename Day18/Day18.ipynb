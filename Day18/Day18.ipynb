{
  "cells": [
    {
      "cell_type": "markdown",
      "metadata": {
        "id": "e7qDcWW3JF8G"
      },
      "source": [
        "# Advent of Code 2024: Day 18\n",
        "https://adventofcode.com/2024/day/18\n"
      ]
    },
    {
      "cell_type": "markdown",
      "metadata": {
        "id": "krtSVL3uJOQC"
      },
      "source": [
        "## Part 1\n",
        "Find the shortest path from the start to the end"
      ]
    },
    {
      "cell_type": "code",
      "execution_count": 1,
      "metadata": {
        "id": "xQfXHvPiJQrT"
      },
      "outputs": [],
      "source": [
        "def read_data(data: str):\n",
        "    with open(data, \"r\") as f:\n",
        "        data = f.read()\n",
        "        return [tuple(int(x) for x in line.split(\",\")) for line in data.split(\"\\n\")]\n",
        "\n",
        "\n",
        "data_list = read_data(\"input.txt\")"
      ]
    },
    {
      "cell_type": "code",
      "execution_count": 2,
      "metadata": {},
      "outputs": [],
      "source": [
        "import heapq\n",
        "\n",
        "MAX_Y = 71\n",
        "MAX_X = 71\n",
        "DIRS = {\n",
        "    \"right\": (0, 1),\n",
        "    \"left\": (0, -1),\n",
        "    \"down\": (1, 0),\n",
        "    \"up\": (-1, 0),\n",
        "}\n",
        "position = tuple[int, int]\n",
        "positionWithCost = tuple[int, position]\n",
        "\n",
        "\n",
        "def _update_position(pos: position, dir: tuple[int, int]) -> position:\n",
        "    return tuple(y + x for y, x in zip(pos, DIRS[dir]))\n",
        "\n",
        "\n",
        "def _check_in_map(pos: position) -> bool:\n",
        "    return pos[0] >= 0 and pos[1] >= 0 and pos[0] < MAX_Y and pos[1] < MAX_X\n",
        "\n",
        "\n",
        "def _get_valid_neighbors(\n",
        "    data: list[tuple[position]], pos: position, ind: int\n",
        ") -> list[position]:\n",
        "    valid_neighbors = []\n",
        "    for dir in DIRS:\n",
        "        new_pos = _update_position(pos, dir)\n",
        "        if tuple(reversed(new_pos)) not in data[:ind] and _check_in_map(new_pos):\n",
        "            valid_neighbors.append(new_pos)\n",
        "    return valid_neighbors\n",
        "\n",
        "\n",
        "def dijkstra(\n",
        "    start: positionWithCost, end: position, data: list[tuple[position]], ind: int\n",
        "):\n",
        "    explore_q = [start]\n",
        "    visited = set()\n",
        "    visited.add(start[1])\n",
        "\n",
        "    while explore_q:\n",
        "        cur = heapq.heappop(explore_q)\n",
        "        neighbors = _get_valid_neighbors(data, cur[1], ind)\n",
        "        for neighbor in neighbors:\n",
        "            if neighbor not in visited:\n",
        "                new_dist = cur[0] + 1\n",
        "                heapq.heappush(explore_q, (new_dist, neighbor))\n",
        "                visited.add(neighbor)\n",
        "                if tuple(reversed(neighbor)) == end:\n",
        "                    return new_dist"
      ]
    },
    {
      "cell_type": "code",
      "execution_count": 3,
      "metadata": {},
      "outputs": [
        {
          "data": {
            "text/plain": [
              "384"
            ]
          },
          "execution_count": 3,
          "metadata": {},
          "output_type": "execute_result"
        }
      ],
      "source": [
        "dijkstra((0, (0, 0)), (70, 70), data_list, 1024)"
      ]
    },
    {
      "cell_type": "markdown",
      "metadata": {
        "id": "yiKeMv3lJPM_"
      },
      "source": [
        "## Part 2\n",
        "Find the tile that blocks the way to the exit"
      ]
    },
    {
      "cell_type": "code",
      "execution_count": 4,
      "metadata": {},
      "outputs": [
        {
          "name": "stdout",
          "output_type": "stream",
          "text": [
            "(36, 10)\n"
          ]
        }
      ],
      "source": [
        "for i in range(len(data_list), -1, -1):\n",
        "    dist = dijkstra((0, (0, 0)), (70, 70), data_list, i)\n",
        "    if dist:\n",
        "        print(data_list[i])\n",
        "        break"
      ]
    }
  ],
  "metadata": {
    "colab": {
      "provenance": []
    },
    "kernelspec": {
      "display_name": ".venv",
      "language": "python",
      "name": "python3"
    },
    "language_info": {
      "codemirror_mode": {
        "name": "ipython",
        "version": 3
      },
      "file_extension": ".py",
      "mimetype": "text/x-python",
      "name": "python",
      "nbconvert_exporter": "python",
      "pygments_lexer": "ipython3",
      "version": "3.12.8"
    }
  },
  "nbformat": 4,
  "nbformat_minor": 0
}
