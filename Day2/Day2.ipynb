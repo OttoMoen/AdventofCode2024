{
  "nbformat": 4,
  "nbformat_minor": 0,
  "metadata": {
    "colab": {
      "provenance": []
    },
    "kernelspec": {
      "name": "python3",
      "display_name": "Python 3"
    },
    "language_info": {
      "name": "python"
    }
  },
  "cells": [
    {
      "cell_type": "markdown",
      "source": [
        "# Advent of Code 2024: Day 2\n",
        "https://adventofcode.com/2024/day/2\n"
      ],
      "metadata": {
        "id": "e7qDcWW3JF8G"
      }
    },
    {
      "cell_type": "markdown",
      "source": [
        "## Part 1\n",
        "\n",
        "Check if reports are 'safe'"
      ],
      "metadata": {
        "id": "krtSVL3uJOQC"
      }
    },
    {
      "cell_type": "markdown",
      "source": [
        "### Get the data into a list of list of ints"
      ],
      "metadata": {
        "id": "qSHolakPWW5I"
      }
    },
    {
      "cell_type": "code",
      "source": [
        "myfile = open('input.txt', 'r')\n",
        "data = myfile.read().split('\\n')\n",
        "data_list = [[int(x) for x in data_line.split()]for data_line in data]"
      ],
      "metadata": {
        "id": "xQfXHvPiJQrT"
      },
      "execution_count": 54,
      "outputs": []
    },
    {
      "cell_type": "markdown",
      "source": [
        "### Calculate the number of safe reports\n"
      ],
      "metadata": {
        "id": "O1ibG6vCzz_Q"
      }
    },
    {
      "cell_type": "code",
      "source": [
        "def check_report(report: list[int]) -> bool:\n",
        "  prev = report[0]\n",
        "  safe = True\n",
        "  dirs = []\n",
        "  for i in range(1, len(report)):\n",
        "    if report[i] < prev:\n",
        "      dirs.append(\"decrease\")\n",
        "    elif report[i] > prev:\n",
        "      dirs.append(\"increase\")\n",
        "    else:\n",
        "      safe = False\n",
        "      break\n",
        "    if len(set(dirs)) > 1:\n",
        "      safe = False\n",
        "      break\n",
        "    if abs(report[i] - prev) > 3:\n",
        "      safe = False\n",
        "      break\n",
        "    prev = report[i]\n",
        "  return safe\n",
        "\n",
        "total = 0\n",
        "for report in data_list:\n",
        "  if check_report(report):\n",
        "    total += 1\n",
        "total"
      ],
      "metadata": {
        "colab": {
          "base_uri": "https://localhost:8080/"
        },
        "id": "iT-mjsmgxi38",
        "outputId": "b2950c3b-a14e-4dc1-a924-0d239b7f3e35"
      },
      "execution_count": 55,
      "outputs": [
        {
          "output_type": "execute_result",
          "data": {
            "text/plain": [
              "252"
            ]
          },
          "metadata": {},
          "execution_count": 55
        }
      ]
    },
    {
      "cell_type": "markdown",
      "source": [
        "## Part 2\n",
        "\n",
        "Calculate the number of safe lists, with one level of tolerance"
      ],
      "metadata": {
        "id": "10xNnYANzkpN"
      }
    },
    {
      "cell_type": "code",
      "source": [
        "total = 0\n",
        "for report in data_list:\n",
        "  for i in range(len(report)):\n",
        "    if check_report(report[:i] + report[i+1:]):\n",
        "      total += 1\n",
        "      break\n",
        "total"
      ],
      "metadata": {
        "colab": {
          "base_uri": "https://localhost:8080/"
        },
        "id": "VufkVt2rzl09",
        "outputId": "f22f2fbd-8147-4c92-8846-df8dc607dca2"
      },
      "execution_count": 56,
      "outputs": [
        {
          "output_type": "execute_result",
          "data": {
            "text/plain": [
              "324"
            ]
          },
          "metadata": {},
          "execution_count": 56
        }
      ]
    }
  ]
}