{
 "cells": [
  {
   "cell_type": "markdown",
   "metadata": {
    "id": "e7qDcWW3JF8G"
   },
   "source": [
    "# Advent of Code 2024: Day 3\n",
    "https://adventofcode.com/2024/day/3\n"
   ]
  },
  {
   "cell_type": "markdown",
   "metadata": {
    "id": "krtSVL3uJOQC"
   },
   "source": [
    "## Part 1\n",
    "Calculate the sum of products of numbers within a \"mul()\" function"
   ]
  },
  {
   "cell_type": "markdown",
   "metadata": {
    "id": "Jc2_NXw63k49"
   },
   "source": [
    "### Get the data into a list of strings"
   ]
  },
  {
   "cell_type": "code",
   "execution_count": 21,
   "metadata": {
    "id": "xQfXHvPiJQrT"
   },
   "outputs": [],
   "source": [
    "myfile = open('input.txt', 'r')\n",
    "data = myfile.read()\n",
    "data_list = data.split('\\n')"
   ]
  },
  {
   "cell_type": "code",
   "execution_count": 22,
   "metadata": {},
   "outputs": [
    {
     "name": "stdout",
     "output_type": "stream",
     "text": [
      "156388521\n"
     ]
    }
   ],
   "source": [
    "import re\n",
    "pattern = r\"mul\\((\\d+),(\\d+)\\)\"\n",
    "\n",
    "total = 0\n",
    "for line in data_list:\n",
    "    for match in re.finditer(pattern, line):\n",
    "        total += int(match.group(1))*int(match.group(2))\n",
    "print(total)"
   ]
  },
  {
   "cell_type": "markdown",
   "metadata": {
    "id": "WnKLHrqpQGb9"
   },
   "source": [
    "## Part 2\n",
    "Calculate the same sum, but now controlled by a \"do()\" or \"don't()\" function"
   ]
  },
  {
   "cell_type": "code",
   "execution_count": 173,
   "metadata": {},
   "outputs": [
    {
     "name": "stdout",
     "output_type": "stream",
     "text": [
      "75920122\n"
     ]
    }
   ],
   "source": [
    "pattern = r\"mul\\((\\d+),(\\d+)\\)|(do\\(\\)|don't\\(\\))\"\n",
    "total = 0\n",
    "do = True\n",
    "for line in data_list:\n",
    "    for match in re.finditer(pattern, line):\n",
    "        if match.group() == \"do()\":\n",
    "            do = True\n",
    "        elif match.group() == \"don't()\":\n",
    "            do = False\n",
    "        else:\n",
    "            if do:\n",
    "                total += int(match.group(1)) * int(match.group(2))\n",
    "print(total)"
   ]
  }
 ],
 "metadata": {
  "colab": {
   "provenance": []
  },
  "kernelspec": {
   "display_name": "Python 3",
   "name": "python3"
  },
  "language_info": {
   "codemirror_mode": {
    "name": "ipython",
    "version": 3
   },
   "file_extension": ".py",
   "mimetype": "text/x-python",
   "name": "python",
   "nbconvert_exporter": "python",
   "pygments_lexer": "ipython3",
   "version": "3.10.7"
  }
 },
 "nbformat": 4,
 "nbformat_minor": 0
}
