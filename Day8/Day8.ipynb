{
 "cells": [
  {
   "cell_type": "markdown",
   "metadata": {
    "id": "e7qDcWW3JF8G"
   },
   "source": [
    "# Advent of Code 2024: Day 8\n",
    "https://adventofcode.com/2024/day/8\n"
   ]
  },
  {
   "cell_type": "markdown",
   "metadata": {
    "id": "krtSVL3uJOQC"
   },
   "source": [
    "## Part 1\n",
    "Find the number of unique locations with an antinode"
   ]
  },
  {
   "cell_type": "code",
   "execution_count": 33,
   "metadata": {
    "id": "xQfXHvPiJQrT"
   },
   "outputs": [],
   "source": [
    "myfile = open(\"input.txt\", \"r\")\n",
    "data = myfile.read()\n",
    "data_map = [list(line) for line in data.split(\"\\n\")]"
   ]
  },
  {
   "cell_type": "code",
   "execution_count": 34,
   "metadata": {
    "colab": {
     "base_uri": "https://localhost:8080/"
    },
    "id": "Vg6HQ-Us5wMu",
    "outputId": "848035a6-0a47-4ce0-f114-e9cf70b4e7f1"
   },
   "outputs": [
    {
     "name": "stdout",
     "output_type": "stream",
     "text": [
      "259\n"
     ]
    }
   ],
   "source": [
    "from itertools import product\n",
    "\n",
    "pos = tuple[int, int]\n",
    "MAX_Y = len(data_map)\n",
    "MAX_X = len(data_map[0])\n",
    "\n",
    "\n",
    "def _check_in_map(position: pos) -> bool:\n",
    "    return (\n",
    "        position[0] >= 0\n",
    "        and position[1] >= 0\n",
    "        and position[0] < MAX_Y\n",
    "        and position[1] < MAX_X\n",
    "    )\n",
    "\n",
    "\n",
    "location_dict = {}\n",
    "for i, row in enumerate(data_map):\n",
    "    for j, col in enumerate(data_map[i]):\n",
    "        if col != \".\":\n",
    "            if location_dict.get(col):\n",
    "                location_dict[col].append((i, j))\n",
    "            else:\n",
    "                location_dict[col] = [(i, j)]\n",
    "\n",
    "\n",
    "def get_unique_antinode_locations(\n",
    "    location_dict: dict[str, list[tuple[int, int]]],\n",
    "    min_distance: int | None = None,\n",
    "    max_distance: int | None = None,\n",
    "):\n",
    "    if not min_distance:\n",
    "        min_distance = 0\n",
    "    if not max_distance:\n",
    "        max_distance = MAX_Y\n",
    "\n",
    "    antinode_dict = {}\n",
    "    for key, value in location_dict.items():\n",
    "        antinode_dict[key] = []\n",
    "        for p in product(value, value):\n",
    "            if p[0] != p[1]:\n",
    "                for i in range(min_distance, max_distance + 1):\n",
    "                    antinode_pos = tuple(y + (i * (y - x)) for y, x in zip(p[0], p[1]))\n",
    "                    if _check_in_map(antinode_pos):\n",
    "                        antinode_dict[key].append(antinode_pos)\n",
    "                    else:\n",
    "                        break\n",
    "\n",
    "    antinode_set = set()\n",
    "    for key, value in antinode_dict.items():\n",
    "        for p in value:\n",
    "            antinode_set.add(p)\n",
    "    return antinode_set\n",
    "\n",
    "\n",
    "print(len(get_unique_antinode_locations(location_dict, 1, 1)))"
   ]
  },
  {
   "cell_type": "markdown",
   "metadata": {
    "id": "yiKeMv3lJPM_"
   },
   "source": [
    "## Part 2\n",
    "Find the number of unique locations with an antinode, updated rules"
   ]
  },
  {
   "cell_type": "code",
   "execution_count": 35,
   "metadata": {},
   "outputs": [
    {
     "name": "stdout",
     "output_type": "stream",
     "text": [
      "927\n"
     ]
    }
   ],
   "source": [
    "print(len(get_unique_antinode_locations(location_dict)))"
   ]
  }
 ],
 "metadata": {
  "colab": {
   "provenance": []
  },
  "kernelspec": {
   "display_name": ".venv",
   "language": "python",
   "name": "python3"
  },
  "language_info": {
   "codemirror_mode": {
    "name": "ipython",
    "version": 3
   },
   "file_extension": ".py",
   "mimetype": "text/x-python",
   "name": "python",
   "nbconvert_exporter": "python",
   "pygments_lexer": "ipython3",
   "version": "3.12.8"
  }
 },
 "nbformat": 4,
 "nbformat_minor": 0
}
