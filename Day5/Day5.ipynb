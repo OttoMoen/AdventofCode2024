{
 "cells": [
  {
   "cell_type": "markdown",
   "metadata": {
    "id": "e7qDcWW3JF8G"
   },
   "source": [
    "# Advent of Code 2024: Day 5\n",
    "https://adventofcode.com/2024/day/5"
   ]
  },
  {
   "cell_type": "markdown",
   "metadata": {
    "id": "krtSVL3uJOQC"
   },
   "source": [
    "## Part 1\n",
    "Find the sum of the middle item of every list that follows all the rules"
   ]
  },
  {
   "cell_type": "markdown",
   "metadata": {
    "id": "Jc2_NXw63k49"
   },
   "source": [
    "### Get the first row of data into a list of integers"
   ]
  },
  {
   "cell_type": "code",
   "execution_count": 80,
   "metadata": {
    "id": "xQfXHvPiJQrT"
   },
   "outputs": [],
   "source": [
    "myfile = open('input.txt', 'r')\n",
    "data = myfile.read()\n",
    "data_list = data.split('\\n')\n",
    "split = data_list.index('')\n",
    "rules = [(int(rule.split(\"|\")[0]), int(rule.split(\"|\")[1])) for rule in data_list[:split]]\n",
    "pages = [[int(num) for num in page.split(\",\")] for page in data_list[split+1:]]"
   ]
  },
  {
   "cell_type": "code",
   "execution_count": 81,
   "metadata": {},
   "outputs": [
    {
     "name": "stdout",
     "output_type": "stream",
     "text": [
      "5651\n"
     ]
    }
   ],
   "source": [
    "valid_middles = []\n",
    "for page in pages:\n",
    "    page_dict = {num: page.index(num) for num in page}\n",
    "    valid = True\n",
    "    for first, second in rules:\n",
    "        a = page_dict.get(first)\n",
    "        b = page_dict.get(second)\n",
    "        if a is not None and b is not None:\n",
    "            if a > b:\n",
    "                valid = False\n",
    "                break\n",
    "    if valid:\n",
    "        valid_middles.append(page[(len(page) - 1)//2])\n",
    "\n",
    "print(sum(valid_middles))"
   ]
  },
  {
   "cell_type": "markdown",
   "metadata": {
    "id": "iYy0w69z_KES"
   },
   "source": [
    "## Part 2\n",
    "Find the lowest ranked location of the given seeds, with a different way to read the seed data"
   ]
  },
  {
   "cell_type": "code",
   "execution_count": 82,
   "metadata": {},
   "outputs": [
    {
     "name": "stdout",
     "output_type": "stream",
     "text": [
      "4743\n"
     ]
    }
   ],
   "source": [
    "incorrect_middles = []\n",
    "for page in pages:\n",
    "    page_dict = {num: page.index(num) for num in page}\n",
    "    valid = True\n",
    "    correcting = True\n",
    "    while correcting:\n",
    "        corrected = False\n",
    "        for first, second in rules:\n",
    "            a = page_dict.get(first)\n",
    "            b = page_dict.get(second)\n",
    "            if a is not None and b is not None:\n",
    "                if a > b:\n",
    "                    valid = False\n",
    "                    page_dict[first] = b\n",
    "                    page_dict[second] = a\n",
    "                    corrected = True\n",
    "        if not corrected:            \n",
    "            correcting = False\n",
    "    if not valid:\n",
    "        new_page = [0 for num in page]\n",
    "        for key,value in page_dict.items():\n",
    "            new_page[value]=key\n",
    "        incorrect_middles.append(new_page[(len(page) - 1)//2])\n",
    "print(sum(incorrect_middles))"
   ]
  }
 ],
 "metadata": {
  "colab": {
   "provenance": []
  },
  "kernelspec": {
   "display_name": "Python 3",
   "name": "python3"
  },
  "language_info": {
   "codemirror_mode": {
    "name": "ipython",
    "version": 3
   },
   "file_extension": ".py",
   "mimetype": "text/x-python",
   "name": "python",
   "nbconvert_exporter": "python",
   "pygments_lexer": "ipython3",
   "version": "3.10.7"
  }
 },
 "nbformat": 4,
 "nbformat_minor": 0
}
