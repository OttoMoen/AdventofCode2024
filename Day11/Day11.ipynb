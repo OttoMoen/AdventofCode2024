{
 "cells": [
  {
   "cell_type": "markdown",
   "metadata": {
    "id": "e7qDcWW3JF8G"
   },
   "source": [
    "# Advent of Code 2024: Day 11\n",
    "https://adventofcode.com/2024/day/11\n"
   ]
  },
  {
   "cell_type": "markdown",
   "metadata": {
    "id": "krtSVL3uJOQC"
   },
   "source": [
    "## Part 1\n",
    "Calculate how many items are in a list after 25 iterations of applying rules to each item"
   ]
  },
  {
   "cell_type": "code",
   "execution_count": 49,
   "metadata": {
    "id": "xQfXHvPiJQrT"
   },
   "outputs": [
    {
     "name": "stdout",
     "output_type": "stream",
     "text": [
      "231278\n"
     ]
    }
   ],
   "source": [
    "from functools import cache\n",
    "\n",
    "with open(\"input.txt\", \"r\") as f:\n",
    "    data = f.read()\n",
    "data_list = [int(i) for i in data.split(\" \")]\n",
    "\n",
    "\n",
    "@cache\n",
    "def apply_rules(value: int, ind: int, max_ind: int):\n",
    "    if ind == max_ind:\n",
    "        return 1\n",
    "    if value == 0:\n",
    "        return apply_rules(1, ind + 1, max_ind)\n",
    "    if len(str(value)) % 2 != 0:\n",
    "        return apply_rules(value * 2024, ind + 1, max_ind)\n",
    "    if len(str(value)) % 2 == 0:\n",
    "        int_str = str(value)\n",
    "        return apply_rules(\n",
    "            int(int_str[: len(int_str) // 2]), ind + 1, max_ind\n",
    "        ) + apply_rules(int(int_str[len(int_str) // 2 :]), ind + 1, max_ind)\n",
    "\n",
    "\n",
    "total = 0\n",
    "for value in data_list:\n",
    "    total += apply_rules(value, 0, 25)\n",
    "print(total)"
   ]
  },
  {
   "cell_type": "markdown",
   "metadata": {
    "id": "XjC34ana0nhD"
   },
   "source": [
    "## Part 2\n"
   ]
  },
  {
   "cell_type": "code",
   "execution_count": 50,
   "metadata": {
    "colab": {
     "base_uri": "https://localhost:8080/"
    },
    "id": "_6tQE5IF2fkW",
    "outputId": "4a6b6044-1f4f-46f0-c7c7-44cf9f50d4dd"
   },
   "outputs": [
    {
     "name": "stdout",
     "output_type": "stream",
     "text": [
      "274229228071551\n"
     ]
    }
   ],
   "source": [
    "total = 0\n",
    "for value in data_list:\n",
    "    total += apply_rules(value, 0, 75)\n",
    "print(total)"
   ]
  }
 ],
 "metadata": {
  "colab": {
   "provenance": []
  },
  "kernelspec": {
   "display_name": ".venv",
   "language": "python",
   "name": "python3"
  },
  "language_info": {
   "codemirror_mode": {
    "name": "ipython",
    "version": 3
   },
   "file_extension": ".py",
   "mimetype": "text/x-python",
   "name": "python",
   "nbconvert_exporter": "python",
   "pygments_lexer": "ipython3",
   "version": "3.12.7"
  }
 },
 "nbformat": 4,
 "nbformat_minor": 0
}
