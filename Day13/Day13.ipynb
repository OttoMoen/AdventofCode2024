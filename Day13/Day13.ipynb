{
  "cells": [
    {
      "cell_type": "markdown",
      "metadata": {
        "id": "e7qDcWW3JF8G"
      },
      "source": [
        "# Advent of Code 2024: Day 13\n",
        "https://adventofcode.com/2024/day/13\n"
      ]
    },
    {
      "cell_type": "markdown",
      "metadata": {
        "id": "krtSVL3uJOQC"
      },
      "source": [
        "## Part 1\n",
        "Find the minimum cost to win all possible prizes"
      ]
    },
    {
      "cell_type": "code",
      "execution_count": 35,
      "metadata": {
        "id": "xQfXHvPiJQrT"
      },
      "outputs": [],
      "source": [
        "import re\n",
        "\n",
        "import numpy as np\n",
        "\n",
        "with open(\"input.txt\", \"r\") as f:\n",
        "    data = f.read()\n",
        "\n",
        "\n",
        "data_list = []\n",
        "machine = np.array\n",
        "for i, line in enumerate(data.split(\"\\n\")):\n",
        "    if len(machine) == 3:\n",
        "        data_list.append(machine)\n",
        "        machine = []\n",
        "    if line:\n",
        "        machine.append(tuple([int(s) for s in re.findall(r\"\\d+\", line)]))\n",
        "data_list.append(machine)"
      ]
    },
    {
      "cell_type": "code",
      "execution_count": null,
      "metadata": {},
      "outputs": [
        {
          "name": "stdout",
          "output_type": "stream",
          "text": [
            "30973\n"
          ]
        }
      ],
      "source": [
        "from sympy import Eq, solve, symbols\n",
        "\n",
        "A_COST = 3\n",
        "B_COST = 1\n",
        "\n",
        "\n",
        "def get_solutions(\n",
        "    equation: list[tuple[int, int]], error: int = 0, limit: int | None = None\n",
        ") -> int:\n",
        "    A, B = symbols(\"A B\", integer=True)\n",
        "\n",
        "    eq_X = Eq(A * equation[0][0] + B * equation[1][0], equation[2][0] + error)\n",
        "    eq_Y = Eq(A * equation[0][1] + B * equation[1][1], equation[2][1] + error)\n",
        "    solutions = solve((eq_X, eq_Y), (A, B), dict=True)\n",
        "    if solutions:\n",
        "        costs = []\n",
        "        for sol in solutions:\n",
        "            if limit and (sol[A] > limit or sol[B] > limit):\n",
        "                continue\n",
        "            costs.append(A_COST * sol[A] + B_COST * sol[B])\n",
        "        return min(costs)\n",
        "    return 0\n",
        "\n",
        "\n",
        "costs = []\n",
        "for machine in data_list:\n",
        "    costs.append(get_solutions(machine, limit=100))\n",
        "\n",
        "print(sum(costs))"
      ]
    },
    {
      "cell_type": "markdown",
      "metadata": {
        "id": "yiKeMv3lJPM_"
      },
      "source": [
        "## Part 2\n",
        "Find the minimum cost to win all possible prizes, with new prize locations"
      ]
    },
    {
      "cell_type": "code",
      "execution_count": 38,
      "metadata": {
        "colab": {
          "base_uri": "https://localhost:8080/"
        },
        "id": "hxiyW03qelrQ",
        "outputId": "ba9db2b7-203e-4b5f-dd8e-f06b83256625"
      },
      "outputs": [
        {
          "name": "stdout",
          "output_type": "stream",
          "text": [
            "95688837203288\n"
          ]
        }
      ],
      "source": [
        "costs = []\n",
        "for machine in data_list:\n",
        "    costs.append(get_solutions(machine, error=10000000000000))\n",
        "\n",
        "print(sum(costs))"
      ]
    }
  ],
  "metadata": {
    "colab": {
      "provenance": []
    },
    "kernelspec": {
      "display_name": ".venv",
      "language": "python",
      "name": "python3"
    },
    "language_info": {
      "codemirror_mode": {
        "name": "ipython",
        "version": 3
      },
      "file_extension": ".py",
      "mimetype": "text/x-python",
      "name": "python",
      "nbconvert_exporter": "python",
      "pygments_lexer": "ipython3",
      "version": "3.12.7"
    }
  },
  "nbformat": 4,
  "nbformat_minor": 0
}
