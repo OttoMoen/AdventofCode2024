{
  "cells": [
    {
      "cell_type": "markdown",
      "metadata": {
        "id": "e7qDcWW3JF8G"
      },
      "source": [
        "# Advent of Code 2024: Day 16\n",
        "https://adventofcode.com/2024/day/16\n"
      ]
    },
    {
      "cell_type": "markdown",
      "metadata": {
        "id": "krtSVL3uJOQC"
      },
      "source": [
        "## Part 1\n",
        "Find the shortest path from the start to the end"
      ]
    },
    {
      "cell_type": "code",
      "execution_count": 1,
      "metadata": {
        "id": "xQfXHvPiJQrT"
      },
      "outputs": [
        {
          "data": {
            "text/plain": [
              "104516"
            ]
          },
          "execution_count": 1,
          "metadata": {},
          "output_type": "execute_result"
        }
      ],
      "source": [
        "def make_map(data: str):\n",
        "    with open(data, \"r\") as f:\n",
        "        data = f.read()\n",
        "    data_map = []\n",
        "    for line in data.split(\"\\n\"):\n",
        "        data_map.append([c for c in line])\n",
        "    return data_map\n",
        "\n",
        "\n",
        "posWithDir = tuple[int, int, str]\n",
        "data_map = make_map(\"input.txt\")\n",
        "DIRS = {\n",
        "    \"right\": (0, 1),\n",
        "    \"left\": (0, -1),\n",
        "    \"down\": (1, 0),\n",
        "    \"up\": (-1, 0),\n",
        "}\n",
        "TURNING = {\n",
        "    \"up\": [\"left\", \"right\"],\n",
        "    \"right\": [\"up\", \"down\"],\n",
        "    \"down\": [\"left\", \"right\"],\n",
        "    \"left\": [\"up\", \"down\"],\n",
        "}\n",
        "MAX_Y = len(data_map)\n",
        "MAX_X = len(data_map[0])\n",
        "\n",
        "\n",
        "def get_pos_by_value(data: list[list[str]], value: str) -> list[tuple[int, int] | None]:\n",
        "    pos = []\n",
        "    for i in range(MAX_Y):\n",
        "        for j in range(MAX_X):\n",
        "            if data[i][j] == value:\n",
        "                pos.append((i, j))\n",
        "    return pos\n",
        "\n",
        "\n",
        "def _update_position(pos: posWithDir) -> posWithDir:\n",
        "    return tuple(y + x for y, x in zip(pos[:2], DIRS[pos[2]])) + (pos[2],)\n",
        "\n",
        "\n",
        "def _get_valid_neighbors(data: list[list[str]], pos: posWithDir) -> list[posWithDir]:\n",
        "    valid_neighbors = []\n",
        "    new_pos = _update_position(pos)\n",
        "    if data[new_pos[0]][new_pos[1]] != \"#\":\n",
        "        valid_neighbors.append(new_pos)\n",
        "    for turn in TURNING[pos[2]]:\n",
        "        valid_neighbors.append((pos[0], pos[1], turn))\n",
        "    return valid_neighbors\n",
        "\n",
        "\n",
        "def bfs(data: list[list[str]], start: posWithDir, end: tuple[int, int]):\n",
        "    explore_q = [start]\n",
        "    visited = set()\n",
        "    visited.add(start)\n",
        "    prev = {start: start}\n",
        "    dist = {start: 0}\n",
        "    while explore_q:\n",
        "        cur = explore_q.pop()\n",
        "        neighbors = _get_valid_neighbors(data, cur)\n",
        "        for neighbor in neighbors:\n",
        "            if neighbor[:2] == cur[:2]:\n",
        "                new_dist = dist[cur] + 1000\n",
        "            else:\n",
        "                new_dist = dist[cur] + 1\n",
        "            if neighbor not in visited:\n",
        "                prev[neighbor] = cur\n",
        "                dist[neighbor] = new_dist\n",
        "                explore_q.append(neighbor)\n",
        "                visited.add(neighbor)\n",
        "            else:\n",
        "                if new_dist < dist[neighbor]:\n",
        "                    prev[neighbor] = cur\n",
        "                    dist[neighbor] = new_dist\n",
        "                    explore_q.append(neighbor)\n",
        "    min_dist = None\n",
        "    for p, d in dist.items():\n",
        "        if p[:2] == end:\n",
        "            if min_dist:\n",
        "                min_dist = min(min_dist, d)\n",
        "            else:\n",
        "                min_dist = d\n",
        "    return min_dist, dist\n",
        "\n",
        "\n",
        "start = get_pos_by_value(data_map, \"S\")[0] + (\"right\",)\n",
        "end = get_pos_by_value(data_map, \"E\")[0]\n",
        "\n",
        "min_dist, dist = bfs(data_map, start, end)\n",
        "min_dist"
      ]
    },
    {
      "cell_type": "markdown",
      "metadata": {
        "id": "xVSJPgDS7mTn"
      },
      "source": [
        "## Part 2\n",
        "Find the how many paths are part of at least one of the shortest paths"
      ]
    },
    {
      "cell_type": "code",
      "execution_count": 2,
      "metadata": {},
      "outputs": [
        {
          "name": "stdout",
          "output_type": "stream",
          "text": [
            "545\n"
          ]
        }
      ],
      "source": [
        "DIRS_REV = {\n",
        "    \"right\": (0, -1),\n",
        "    \"left\": (0, 1),\n",
        "    \"down\": (-1, 0),\n",
        "    \"up\": (1, 0),\n",
        "}\n",
        "\n",
        "\n",
        "def _get_valid_neighbors(\n",
        "    data: dict[posWithDir, int], pos: posWithDir, dist: int\n",
        ") -> list[posWithDir]:\n",
        "    valid_neighbors = []\n",
        "    for dir, dir_tuple in DIRS_REV.items():\n",
        "        new_pos = tuple(y + x for y, x in zip(pos[:2], dir_tuple)) + (dir,)\n",
        "        if data.get(new_pos) is not None:\n",
        "            if data[new_pos] == dist - 1:\n",
        "                valid_neighbors.append(new_pos)\n",
        "    for dir in DIRS_REV:\n",
        "        new_pos = pos[:2] + (dir,)\n",
        "        if data[new_pos] == dist - 1000:\n",
        "            valid_neighbors.append(new_pos)\n",
        "    return valid_neighbors\n",
        "\n",
        "\n",
        "pos = set()\n",
        "pos_unique = set()\n",
        "ends = [p for p, d in dist.items() if d == min_dist and p[:2] == end]\n",
        "pos.add(ends[0])\n",
        "pos_unique.add(ends[0][:2])\n",
        "while ends:\n",
        "    cur = ends.pop()\n",
        "    neighbors = _get_valid_neighbors(dist, cur, dist[cur])\n",
        "    for neighbor in neighbors:\n",
        "        if neighbor not in pos:\n",
        "            pos.add(neighbor)\n",
        "            pos_unique.add(neighbor[:2])\n",
        "            ends.append(neighbor)\n",
        "print(len(pos_unique))"
      ]
    }
  ],
  "metadata": {
    "colab": {
      "provenance": []
    },
    "kernelspec": {
      "display_name": ".venv",
      "language": "python",
      "name": "python3"
    },
    "language_info": {
      "codemirror_mode": {
        "name": "ipython",
        "version": 3
      },
      "file_extension": ".py",
      "mimetype": "text/x-python",
      "name": "python",
      "nbconvert_exporter": "python",
      "pygments_lexer": "ipython3",
      "version": "3.12.8"
    }
  },
  "nbformat": 4,
  "nbformat_minor": 0
}
